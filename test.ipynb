{
 "cells": [
  {
   "cell_type": "code",
   "execution_count": 1,
   "id": "initial_id",
   "metadata": {
    "collapsed": true,
    "ExecuteTime": {
     "end_time": "2023-11-02T02:24:57.759466300Z",
     "start_time": "2023-11-02T02:24:50.153207600Z"
    }
   },
   "outputs": [
    {
     "name": "stdout",
     "output_type": "stream",
     "text": [
      "tensor([ 0.8730, -0.4496, -0.8085])\n",
      "tensor([0, 0, 0])\n"
     ]
    }
   ],
   "source": [
    "import torch\n",
    "a = torch.randn(3)\n",
    "print(a)\n",
    "print(a.long())"
   ]
  },
  {
   "cell_type": "code",
   "execution_count": 10,
   "outputs": [
    {
     "name": "stdout",
     "output_type": "stream",
     "text": [
      "tensor([[0., 0.],\n",
      "        [0., 0.],\n",
      "        [0., 0.]])\n"
     ]
    }
   ],
   "source": [
    "import torch\n",
    "a = torch.zeros(3,2)\n",
    "print(a)"
   ],
   "metadata": {
    "collapsed": false,
    "ExecuteTime": {
     "end_time": "2023-11-01T08:40:52.474304500Z",
     "start_time": "2023-11-01T08:40:52.455325600Z"
    }
   },
   "id": "5894008c6524f2d6"
  },
  {
   "cell_type": "code",
   "execution_count": 6,
   "outputs": [
    {
     "name": "stdout",
     "output_type": "stream",
     "text": [
      "torch.Size([5])\n",
      "torch.Size([3, 1, 2])\n",
      "torch.Size([3, 1, 2])\n",
      "tensor([[[ 5.0560e-01, -1.4414e+00]],\n",
      "\n",
      "        [[ 9.3703e-04,  1.3117e+00]],\n",
      "\n",
      "        [[-4.7362e-01, -3.7927e-01]]])\n"
     ]
    }
   ],
   "source": [
    "a = torch.arange(0, 5)\n",
    "aa =torch.randn(3,2)\n",
    "b = aa.unsqueeze(1)\n",
    "c = aa.unsqueeze(-2)\n",
    "print(a.size())\n",
    "print(b.size())\n",
    "print(c.size())\n",
    "print(c)"
   ],
   "metadata": {
    "collapsed": false,
    "ExecuteTime": {
     "end_time": "2023-11-02T02:57:28.493368700Z",
     "start_time": "2023-11-02T02:57:28.473422800Z"
    }
   },
   "id": "defef9f1ceef6d20"
  },
  {
   "cell_type": "code",
   "execution_count": 27,
   "outputs": [
    {
     "name": "stdout",
     "output_type": "stream",
     "text": [
      "tensor([[0],\n",
      "        [1],\n",
      "        [2],\n",
      "        [3],\n",
      "        [4]])\n"
     ]
    }
   ],
   "source": [
    "a1 = a.reshape(5,1)\n",
    "print(a1)"
   ],
   "metadata": {
    "collapsed": false,
    "ExecuteTime": {
     "end_time": "2023-11-01T09:43:33.419099600Z",
     "start_time": "2023-11-01T09:43:33.411120700Z"
    }
   },
   "id": "d6d33430b5e38ce5"
  },
  {
   "cell_type": "code",
   "execution_count": 4,
   "outputs": [
    {
     "name": "stdout",
     "output_type": "stream",
     "text": [
      "tensor([0., 2., 4.])\n"
     ]
    }
   ],
   "source": [
    "two_i = torch.arange(0,6,2,dtype=torch.float32)\n",
    "print(two_i)"
   ],
   "metadata": {
    "collapsed": false,
    "ExecuteTime": {
     "end_time": "2023-11-02T02:29:12.859058600Z",
     "start_time": "2023-11-02T02:29:12.840441400Z"
    }
   },
   "id": "d7d4df8b33fd5d72"
  },
  {
   "cell_type": "code",
   "execution_count": null,
   "outputs": [],
   "source": [],
   "metadata": {
    "collapsed": false
   },
   "id": "d06c0c1fb7cf698f"
  }
 ],
 "metadata": {
  "kernelspec": {
   "display_name": "Python 3",
   "language": "python",
   "name": "python3"
  },
  "language_info": {
   "codemirror_mode": {
    "name": "ipython",
    "version": 2
   },
   "file_extension": ".py",
   "mimetype": "text/x-python",
   "name": "python",
   "nbconvert_exporter": "python",
   "pygments_lexer": "ipython2",
   "version": "2.7.6"
  }
 },
 "nbformat": 4,
 "nbformat_minor": 5
}
