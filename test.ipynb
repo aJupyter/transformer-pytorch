{
 "cells": [
  {
   "cell_type": "code",
   "execution_count": 1,
   "id": "initial_id",
   "metadata": {
    "collapsed": true,
    "ExecuteTime": {
     "end_time": "2023-11-02T02:24:57.759466300Z",
     "start_time": "2023-11-02T02:24:50.153207600Z"
    }
   },
   "outputs": [
    {
     "name": "stdout",
     "output_type": "stream",
     "text": [
      "tensor([ 0.8730, -0.4496, -0.8085])\n",
      "tensor([0, 0, 0])\n"
     ]
    }
   ],
   "source": [
    "import torch\n",
    "a = torch.randn(3)\n",
    "print(a)\n",
    "print(a.long())"
   ]
  },
  {
   "cell_type": "code",
   "execution_count": 2,
   "outputs": [
    {
     "data": {
      "text/plain": "True"
     },
     "execution_count": 2,
     "metadata": {},
     "output_type": "execute_result"
    }
   ],
   "source": [
    "'abc' > 'abbb'"
   ],
   "metadata": {
    "collapsed": false,
    "ExecuteTime": {
     "end_time": "2023-12-08T12:02:30.743094200Z",
     "start_time": "2023-12-08T12:02:30.633618200Z"
    }
   },
   "id": "af0b2716ee12c250"
  },
  {
   "cell_type": "code",
   "execution_count": 10,
   "outputs": [
    {
     "name": "stdout",
     "output_type": "stream",
     "text": [
      "tensor([[0., 0.],\n",
      "        [0., 0.],\n",
      "        [0., 0.]])\n"
     ]
    }
   ],
   "source": [
    "import torch\n",
    "a = torch.zeros(3,2)\n",
    "print(a)"
   ],
   "metadata": {
    "collapsed": false,
    "ExecuteTime": {
     "end_time": "2023-11-01T08:40:52.474304500Z",
     "start_time": "2023-11-01T08:40:52.455325600Z"
    }
   },
   "id": "5894008c6524f2d6"
  },
  {
   "cell_type": "code",
   "execution_count": 6,
   "outputs": [
    {
     "name": "stdout",
     "output_type": "stream",
     "text": [
      "torch.Size([5])\n",
      "torch.Size([3, 1, 2])\n",
      "torch.Size([3, 1, 2])\n",
      "tensor([[[ 5.0560e-01, -1.4414e+00]],\n",
      "\n",
      "        [[ 9.3703e-04,  1.3117e+00]],\n",
      "\n",
      "        [[-4.7362e-01, -3.7927e-01]]])\n"
     ]
    }
   ],
   "source": [
    "a = torch.arange(0, 5)\n",
    "aa =torch.randn(3,2)\n",
    "b = aa.unsqueeze(1)\n",
    "c = aa.unsqueeze(-2)\n",
    "print(a.size())\n",
    "print(b.size())\n",
    "print(c.size())\n",
    "print(c)"
   ],
   "metadata": {
    "collapsed": false,
    "ExecuteTime": {
     "end_time": "2023-11-02T02:57:28.493368700Z",
     "start_time": "2023-11-02T02:57:28.473422800Z"
    }
   },
   "id": "defef9f1ceef6d20"
  },
  {
   "cell_type": "code",
   "execution_count": 27,
   "outputs": [
    {
     "name": "stdout",
     "output_type": "stream",
     "text": [
      "tensor([[0],\n",
      "        [1],\n",
      "        [2],\n",
      "        [3],\n",
      "        [4]])\n"
     ]
    }
   ],
   "source": [
    "a1 = a.reshape(5,1)\n",
    "print(a1)"
   ],
   "metadata": {
    "collapsed": false,
    "ExecuteTime": {
     "end_time": "2023-11-01T09:43:33.419099600Z",
     "start_time": "2023-11-01T09:43:33.411120700Z"
    }
   },
   "id": "d6d33430b5e38ce5"
  },
  {
   "cell_type": "code",
   "execution_count": 4,
   "outputs": [
    {
     "name": "stdout",
     "output_type": "stream",
     "text": [
      "tensor([0., 2., 4.])\n"
     ]
    }
   ],
   "source": [
    "two_i = torch.arange(0,6,2,dtype=torch.float32)\n",
    "print(two_i)"
   ],
   "metadata": {
    "collapsed": false,
    "ExecuteTime": {
     "end_time": "2023-11-02T02:29:12.859058600Z",
     "start_time": "2023-11-02T02:29:12.840441400Z"
    }
   },
   "id": "d7d4df8b33fd5d72"
  },
  {
   "cell_type": "code",
   "execution_count": 5,
   "outputs": [
    {
     "name": "stdout",
     "output_type": "stream",
     "text": [
      "tensor([[[7, 5, 4],\n",
      "         [6, 7, 1],\n",
      "         [8, 0, 8],\n",
      "         [9, 3, 5]],\n",
      "\n",
      "        [[9, 4, 0],\n",
      "         [9, 7, 5],\n",
      "         [1, 5, 2],\n",
      "         [1, 5, 5]]])\n"
     ]
    }
   ],
   "source": [
    "import torch\n",
    "\n",
    "# 设置矩阵的形状（例如：3x4x5）\n",
    "shape = (2, 4, 3)\n",
    "\n",
    "# 生成随机整数矩阵\n",
    "random_matrix = torch.randint(low=0, high=10, size=shape)\n",
    "\n",
    "print(random_matrix)"
   ],
   "metadata": {
    "collapsed": false,
    "ExecuteTime": {
     "end_time": "2024-01-05T02:00:52.414733800Z",
     "start_time": "2024-01-05T02:00:52.402705500Z"
    }
   },
   "id": "d06c0c1fb7cf698f"
  },
  {
   "cell_type": "code",
   "execution_count": 10,
   "outputs": [
    {
     "name": "stdout",
     "output_type": "stream",
     "text": [
      "tensor([[1., 1., 1.],\n",
      "        [1., 1., 1.],\n",
      "        [1., 1., 1.],\n",
      "        [1., 1., 1.]])\n"
     ]
    }
   ],
   "source": [
    "addm = torch.ones((4,3))\n",
    "print(addm)"
   ],
   "metadata": {
    "collapsed": false,
    "ExecuteTime": {
     "end_time": "2024-01-05T02:39:02.799117800Z",
     "start_time": "2024-01-05T02:39:02.787117600Z"
    }
   },
   "id": "d7fa10c75e6c9999"
  },
  {
   "cell_type": "code",
   "execution_count": 11,
   "outputs": [
    {
     "name": "stdout",
     "output_type": "stream",
     "text": [
      "tensor([[[ 8.,  6.,  5.],\n",
      "         [ 7.,  8.,  2.],\n",
      "         [ 9.,  1.,  9.],\n",
      "         [10.,  4.,  6.]],\n",
      "\n",
      "        [[10.,  5.,  1.],\n",
      "         [10.,  8.,  6.],\n",
      "         [ 2.,  6.,  3.],\n",
      "         [ 2.,  6.,  6.]]])\n"
     ]
    }
   ],
   "source": [
    "out = random_matrix + addm\n",
    "print(out)"
   ],
   "metadata": {
    "collapsed": false,
    "ExecuteTime": {
     "end_time": "2024-01-05T02:39:06.020612800Z",
     "start_time": "2024-01-05T02:39:05.960616300Z"
    }
   },
   "id": "13a5d3d2553492c6"
  },
  {
   "cell_type": "code",
   "execution_count": 12,
   "outputs": [
    {
     "name": "stdout",
     "output_type": "stream",
     "text": [
      "tensor([0, 1, 2, 3, 4])\n"
     ]
    }
   ],
   "source": [
    "pos = torch.arange(0, 5)\n",
    "print(pos)"
   ],
   "metadata": {
    "collapsed": false,
    "ExecuteTime": {
     "end_time": "2024-01-05T02:44:01.430246200Z",
     "start_time": "2024-01-05T02:44:01.383587200Z"
    }
   },
   "id": "c69e3146f7c3c5d7"
  },
  {
   "cell_type": "code",
   "execution_count": 13,
   "outputs": [
    {
     "name": "stdout",
     "output_type": "stream",
     "text": [
      "tensor([[1, 2],\n",
      "        [2, 1],\n",
      "        [2, 3]])\n"
     ]
    }
   ],
   "source": [
    "import torch\n",
    "x = torch.tensor([[1, 2, 2],[2, 1, 3]])\n",
    "x = x.transpose(0, 1)\n",
    "print(x)"
   ],
   "metadata": {
    "collapsed": false,
    "ExecuteTime": {
     "end_time": "2024-01-05T07:11:46.859897400Z",
     "start_time": "2024-01-05T07:11:46.796506Z"
    }
   },
   "id": "898fd795ea462a5d"
  },
  {
   "cell_type": "code",
   "execution_count": 14,
   "outputs": [
    {
     "ename": "RuntimeError",
     "evalue": "view size is not compatible with input tensor's size and stride (at least one dimension spans across two contiguous subspaces). Use .reshape(...) instead.",
     "output_type": "error",
     "traceback": [
      "\u001B[1;31m---------------------------------------------------------------------------\u001B[0m",
      "\u001B[1;31mRuntimeError\u001B[0m                              Traceback (most recent call last)",
      "Cell \u001B[1;32mIn[14], line 1\u001B[0m\n\u001B[1;32m----> 1\u001B[0m y \u001B[38;5;241m=\u001B[39m \u001B[43mx\u001B[49m\u001B[38;5;241;43m.\u001B[39;49m\u001B[43mview\u001B[49m\u001B[43m(\u001B[49m\u001B[38;5;241;43m-\u001B[39;49m\u001B[38;5;241;43m1\u001B[39;49m\u001B[43m)\u001B[49m\n\u001B[0;32m      2\u001B[0m \u001B[38;5;28mprint\u001B[39m(y)\n",
      "\u001B[1;31mRuntimeError\u001B[0m: view size is not compatible with input tensor's size and stride (at least one dimension spans across two contiguous subspaces). Use .reshape(...) instead."
     ]
    }
   ],
   "source": [
    "y = x.view(-1)\n",
    "print(y)"
   ],
   "metadata": {
    "collapsed": false,
    "ExecuteTime": {
     "end_time": "2024-01-05T07:12:08.476839200Z",
     "start_time": "2024-01-05T07:12:08.386684300Z"
    }
   },
   "id": "42f84ccb5f60e38d"
  },
  {
   "cell_type": "code",
   "execution_count": 15,
   "outputs": [
    {
     "name": "stdout",
     "output_type": "stream",
     "text": [
      "tensor([1, 2, 2, 1, 2, 3])\n"
     ]
    }
   ],
   "source": [
    "y = torch.reshape(x, [-1])\n",
    "print(y)"
   ],
   "metadata": {
    "collapsed": false,
    "ExecuteTime": {
     "end_time": "2024-01-05T07:13:52.968891100Z",
     "start_time": "2024-01-05T07:13:52.924890400Z"
    }
   },
   "id": "ca9a2058312a3cd3"
  },
  {
   "cell_type": "code",
   "execution_count": 19,
   "outputs": [
    {
     "name": "stdout",
     "output_type": "stream",
     "text": [
      "torch.Size([4, 8, 6])\n",
      "tensor([[[9, 4, 7, 2, 6, 4],\n",
      "         [1, 5, 9, 6, 6, 5],\n",
      "         [7, 9, 9, 9, 2, 2],\n",
      "         [5, 4, 4, 6, 5, 3],\n",
      "         [8, 1, 2, 5, 7, 1],\n",
      "         [4, 3, 2, 6, 7, 1],\n",
      "         [8, 2, 1, 2, 3, 6],\n",
      "         [6, 3, 7, 1, 9, 3]],\n",
      "\n",
      "        [[4, 2, 4, 6, 1, 5],\n",
      "         [2, 8, 9, 4, 3, 7],\n",
      "         [1, 8, 2, 1, 1, 5],\n",
      "         [9, 1, 9, 2, 1, 9],\n",
      "         [9, 7, 5, 2, 6, 1],\n",
      "         [6, 3, 3, 5, 1, 5],\n",
      "         [6, 1, 4, 3, 6, 4],\n",
      "         [9, 3, 6, 7, 5, 8]],\n",
      "\n",
      "        [[8, 3, 6, 4, 4, 6],\n",
      "         [4, 5, 6, 8, 4, 7],\n",
      "         [2, 6, 4, 8, 9, 8],\n",
      "         [8, 3, 1, 5, 4, 2],\n",
      "         [7, 9, 1, 9, 1, 5],\n",
      "         [1, 9, 6, 8, 7, 7],\n",
      "         [9, 2, 9, 6, 7, 9],\n",
      "         [7, 6, 5, 9, 7, 2]],\n",
      "\n",
      "        [[3, 5, 8, 5, 3, 8],\n",
      "         [5, 8, 9, 2, 9, 4],\n",
      "         [2, 2, 4, 3, 6, 2],\n",
      "         [2, 3, 7, 4, 9, 6],\n",
      "         [2, 6, 8, 7, 7, 7],\n",
      "         [5, 8, 7, 6, 8, 1],\n",
      "         [8, 8, 9, 2, 5, 9],\n",
      "         [6, 8, 2, 2, 7, 1]]])\n"
     ]
    }
   ],
   "source": [
    "x = torch.randint(1,10,(4,8,6))\n",
    "print(x.size())\n",
    "print(x)"
   ],
   "metadata": {
    "collapsed": false,
    "ExecuteTime": {
     "end_time": "2024-01-05T07:23:01.427082100Z",
     "start_time": "2024-01-05T07:23:01.415081200Z"
    }
   },
   "id": "d9b5f4654b3dd306"
  },
  {
   "cell_type": "code",
   "execution_count": 20,
   "outputs": [
    {
     "name": "stdout",
     "output_type": "stream",
     "text": [
      "tensor([[[[9, 4],\n",
      "          [7, 2],\n",
      "          [6, 4],\n",
      "          [1, 5],\n",
      "          [9, 6],\n",
      "          [6, 5],\n",
      "          [7, 9],\n",
      "          [9, 9]],\n",
      "\n",
      "         [[2, 2],\n",
      "          [5, 4],\n",
      "          [4, 6],\n",
      "          [5, 3],\n",
      "          [8, 1],\n",
      "          [2, 5],\n",
      "          [7, 1],\n",
      "          [4, 3]],\n",
      "\n",
      "         [[2, 6],\n",
      "          [7, 1],\n",
      "          [8, 2],\n",
      "          [1, 2],\n",
      "          [3, 6],\n",
      "          [6, 3],\n",
      "          [7, 1],\n",
      "          [9, 3]]],\n",
      "\n",
      "\n",
      "        [[[4, 2],\n",
      "          [4, 6],\n",
      "          [1, 5],\n",
      "          [2, 8],\n",
      "          [9, 4],\n",
      "          [3, 7],\n",
      "          [1, 8],\n",
      "          [2, 1]],\n",
      "\n",
      "         [[1, 5],\n",
      "          [9, 1],\n",
      "          [9, 2],\n",
      "          [1, 9],\n",
      "          [9, 7],\n",
      "          [5, 2],\n",
      "          [6, 1],\n",
      "          [6, 3]],\n",
      "\n",
      "         [[3, 5],\n",
      "          [1, 5],\n",
      "          [6, 1],\n",
      "          [4, 3],\n",
      "          [6, 4],\n",
      "          [9, 3],\n",
      "          [6, 7],\n",
      "          [5, 8]]],\n",
      "\n",
      "\n",
      "        [[[8, 3],\n",
      "          [6, 4],\n",
      "          [4, 6],\n",
      "          [4, 5],\n",
      "          [6, 8],\n",
      "          [4, 7],\n",
      "          [2, 6],\n",
      "          [4, 8]],\n",
      "\n",
      "         [[9, 8],\n",
      "          [8, 3],\n",
      "          [1, 5],\n",
      "          [4, 2],\n",
      "          [7, 9],\n",
      "          [1, 9],\n",
      "          [1, 5],\n",
      "          [1, 9]],\n",
      "\n",
      "         [[6, 8],\n",
      "          [7, 7],\n",
      "          [9, 2],\n",
      "          [9, 6],\n",
      "          [7, 9],\n",
      "          [7, 6],\n",
      "          [5, 9],\n",
      "          [7, 2]]],\n",
      "\n",
      "\n",
      "        [[[3, 5],\n",
      "          [8, 5],\n",
      "          [3, 8],\n",
      "          [5, 8],\n",
      "          [9, 2],\n",
      "          [9, 4],\n",
      "          [2, 2],\n",
      "          [4, 3]],\n",
      "\n",
      "         [[6, 2],\n",
      "          [2, 3],\n",
      "          [7, 4],\n",
      "          [9, 6],\n",
      "          [2, 6],\n",
      "          [8, 7],\n",
      "          [7, 7],\n",
      "          [5, 8]],\n",
      "\n",
      "         [[7, 6],\n",
      "          [8, 1],\n",
      "          [8, 8],\n",
      "          [9, 2],\n",
      "          [5, 9],\n",
      "          [6, 8],\n",
      "          [2, 2],\n",
      "          [7, 1]]]])\n",
      "tensor([[[[9, 4],\n",
      "          [1, 5],\n",
      "          [7, 9],\n",
      "          [5, 4],\n",
      "          [8, 1],\n",
      "          [4, 3],\n",
      "          [8, 2],\n",
      "          [6, 3]],\n",
      "\n",
      "         [[7, 2],\n",
      "          [9, 6],\n",
      "          [9, 9],\n",
      "          [4, 6],\n",
      "          [2, 5],\n",
      "          [2, 6],\n",
      "          [1, 2],\n",
      "          [7, 1]],\n",
      "\n",
      "         [[6, 4],\n",
      "          [6, 5],\n",
      "          [2, 2],\n",
      "          [5, 3],\n",
      "          [7, 1],\n",
      "          [7, 1],\n",
      "          [3, 6],\n",
      "          [9, 3]]],\n",
      "\n",
      "\n",
      "        [[[4, 2],\n",
      "          [2, 8],\n",
      "          [1, 8],\n",
      "          [9, 1],\n",
      "          [9, 7],\n",
      "          [6, 3],\n",
      "          [6, 1],\n",
      "          [9, 3]],\n",
      "\n",
      "         [[4, 6],\n",
      "          [9, 4],\n",
      "          [2, 1],\n",
      "          [9, 2],\n",
      "          [5, 2],\n",
      "          [3, 5],\n",
      "          [4, 3],\n",
      "          [6, 7]],\n",
      "\n",
      "         [[1, 5],\n",
      "          [3, 7],\n",
      "          [1, 5],\n",
      "          [1, 9],\n",
      "          [6, 1],\n",
      "          [1, 5],\n",
      "          [6, 4],\n",
      "          [5, 8]]],\n",
      "\n",
      "\n",
      "        [[[8, 3],\n",
      "          [4, 5],\n",
      "          [2, 6],\n",
      "          [8, 3],\n",
      "          [7, 9],\n",
      "          [1, 9],\n",
      "          [9, 2],\n",
      "          [7, 6]],\n",
      "\n",
      "         [[6, 4],\n",
      "          [6, 8],\n",
      "          [4, 8],\n",
      "          [1, 5],\n",
      "          [1, 9],\n",
      "          [6, 8],\n",
      "          [9, 6],\n",
      "          [5, 9]],\n",
      "\n",
      "         [[4, 6],\n",
      "          [4, 7],\n",
      "          [9, 8],\n",
      "          [4, 2],\n",
      "          [1, 5],\n",
      "          [7, 7],\n",
      "          [7, 9],\n",
      "          [7, 2]]],\n",
      "\n",
      "\n",
      "        [[[3, 5],\n",
      "          [5, 8],\n",
      "          [2, 2],\n",
      "          [2, 3],\n",
      "          [2, 6],\n",
      "          [5, 8],\n",
      "          [8, 8],\n",
      "          [6, 8]],\n",
      "\n",
      "         [[8, 5],\n",
      "          [9, 2],\n",
      "          [4, 3],\n",
      "          [7, 4],\n",
      "          [8, 7],\n",
      "          [7, 6],\n",
      "          [9, 2],\n",
      "          [2, 2]],\n",
      "\n",
      "         [[3, 8],\n",
      "          [9, 4],\n",
      "          [6, 2],\n",
      "          [9, 6],\n",
      "          [7, 7],\n",
      "          [8, 1],\n",
      "          [5, 9],\n",
      "          [7, 1]]]])\n"
     ]
    }
   ],
   "source": [
    "x1 = x.view(4,3,8,2)\n",
    "print(x1)\n",
    "x2 = x.view(4,8,3,2).transpose(1,2)\n",
    "print(x2)"
   ],
   "metadata": {
    "collapsed": false,
    "ExecuteTime": {
     "end_time": "2024-01-05T07:24:01.005740700Z",
     "start_time": "2024-01-05T07:24:00.987212300Z"
    }
   },
   "id": "455dd86c83e94951"
  },
  {
   "cell_type": "code",
   "execution_count": 22,
   "outputs": [
    {
     "name": "stdout",
     "output_type": "stream",
     "text": [
      "tensor([[[[9, 4],\n",
      "          [7, 2],\n",
      "          [6, 4],\n",
      "          [1, 5],\n",
      "          [9, 6],\n",
      "          [6, 5],\n",
      "          [7, 9],\n",
      "          [9, 9]],\n",
      "\n",
      "         [[2, 2],\n",
      "          [5, 4],\n",
      "          [4, 6],\n",
      "          [5, 3],\n",
      "          [8, 1],\n",
      "          [2, 5],\n",
      "          [7, 1],\n",
      "          [4, 3]],\n",
      "\n",
      "         [[2, 6],\n",
      "          [7, 1],\n",
      "          [8, 2],\n",
      "          [1, 2],\n",
      "          [3, 6],\n",
      "          [6, 3],\n",
      "          [7, 1],\n",
      "          [9, 3]]],\n",
      "\n",
      "\n",
      "        [[[4, 2],\n",
      "          [4, 6],\n",
      "          [1, 5],\n",
      "          [2, 8],\n",
      "          [9, 4],\n",
      "          [3, 7],\n",
      "          [1, 8],\n",
      "          [2, 1]],\n",
      "\n",
      "         [[1, 5],\n",
      "          [9, 1],\n",
      "          [9, 2],\n",
      "          [1, 9],\n",
      "          [9, 7],\n",
      "          [5, 2],\n",
      "          [6, 1],\n",
      "          [6, 3]],\n",
      "\n",
      "         [[3, 5],\n",
      "          [1, 5],\n",
      "          [6, 1],\n",
      "          [4, 3],\n",
      "          [6, 4],\n",
      "          [9, 3],\n",
      "          [6, 7],\n",
      "          [5, 8]]],\n",
      "\n",
      "\n",
      "        [[[8, 3],\n",
      "          [6, 4],\n",
      "          [4, 6],\n",
      "          [4, 5],\n",
      "          [6, 8],\n",
      "          [4, 7],\n",
      "          [2, 6],\n",
      "          [4, 8]],\n",
      "\n",
      "         [[9, 8],\n",
      "          [8, 3],\n",
      "          [1, 5],\n",
      "          [4, 2],\n",
      "          [7, 9],\n",
      "          [1, 9],\n",
      "          [1, 5],\n",
      "          [1, 9]],\n",
      "\n",
      "         [[6, 8],\n",
      "          [7, 7],\n",
      "          [9, 2],\n",
      "          [9, 6],\n",
      "          [7, 9],\n",
      "          [7, 6],\n",
      "          [5, 9],\n",
      "          [7, 2]]],\n",
      "\n",
      "\n",
      "        [[[3, 5],\n",
      "          [8, 5],\n",
      "          [3, 8],\n",
      "          [5, 8],\n",
      "          [9, 2],\n",
      "          [9, 4],\n",
      "          [2, 2],\n",
      "          [4, 3]],\n",
      "\n",
      "         [[6, 2],\n",
      "          [2, 3],\n",
      "          [7, 4],\n",
      "          [9, 6],\n",
      "          [2, 6],\n",
      "          [8, 7],\n",
      "          [7, 7],\n",
      "          [5, 8]],\n",
      "\n",
      "         [[7, 6],\n",
      "          [8, 1],\n",
      "          [8, 8],\n",
      "          [9, 2],\n",
      "          [5, 9],\n",
      "          [6, 8],\n",
      "          [2, 2],\n",
      "          [7, 1]]]])\n"
     ]
    }
   ],
   "source": [
    "print(x1)"
   ],
   "metadata": {
    "collapsed": false,
    "ExecuteTime": {
     "end_time": "2024-01-05T07:24:34.430479600Z",
     "start_time": "2024-01-05T07:24:34.414479500Z"
    }
   },
   "id": "a728b0259481e643"
  },
  {
   "cell_type": "code",
   "execution_count": 23,
   "outputs": [
    {
     "name": "stdout",
     "output_type": "stream",
     "text": [
      "tensor([[[[9, 4],\n",
      "          [1, 5],\n",
      "          [7, 9],\n",
      "          [5, 4],\n",
      "          [8, 1],\n",
      "          [4, 3],\n",
      "          [8, 2],\n",
      "          [6, 3]],\n",
      "\n",
      "         [[7, 2],\n",
      "          [9, 6],\n",
      "          [9, 9],\n",
      "          [4, 6],\n",
      "          [2, 5],\n",
      "          [2, 6],\n",
      "          [1, 2],\n",
      "          [7, 1]],\n",
      "\n",
      "         [[6, 4],\n",
      "          [6, 5],\n",
      "          [2, 2],\n",
      "          [5, 3],\n",
      "          [7, 1],\n",
      "          [7, 1],\n",
      "          [3, 6],\n",
      "          [9, 3]]],\n",
      "\n",
      "\n",
      "        [[[4, 2],\n",
      "          [2, 8],\n",
      "          [1, 8],\n",
      "          [9, 1],\n",
      "          [9, 7],\n",
      "          [6, 3],\n",
      "          [6, 1],\n",
      "          [9, 3]],\n",
      "\n",
      "         [[4, 6],\n",
      "          [9, 4],\n",
      "          [2, 1],\n",
      "          [9, 2],\n",
      "          [5, 2],\n",
      "          [3, 5],\n",
      "          [4, 3],\n",
      "          [6, 7]],\n",
      "\n",
      "         [[1, 5],\n",
      "          [3, 7],\n",
      "          [1, 5],\n",
      "          [1, 9],\n",
      "          [6, 1],\n",
      "          [1, 5],\n",
      "          [6, 4],\n",
      "          [5, 8]]],\n",
      "\n",
      "\n",
      "        [[[8, 3],\n",
      "          [4, 5],\n",
      "          [2, 6],\n",
      "          [8, 3],\n",
      "          [7, 9],\n",
      "          [1, 9],\n",
      "          [9, 2],\n",
      "          [7, 6]],\n",
      "\n",
      "         [[6, 4],\n",
      "          [6, 8],\n",
      "          [4, 8],\n",
      "          [1, 5],\n",
      "          [1, 9],\n",
      "          [6, 8],\n",
      "          [9, 6],\n",
      "          [5, 9]],\n",
      "\n",
      "         [[4, 6],\n",
      "          [4, 7],\n",
      "          [9, 8],\n",
      "          [4, 2],\n",
      "          [1, 5],\n",
      "          [7, 7],\n",
      "          [7, 9],\n",
      "          [7, 2]]],\n",
      "\n",
      "\n",
      "        [[[3, 5],\n",
      "          [5, 8],\n",
      "          [2, 2],\n",
      "          [2, 3],\n",
      "          [2, 6],\n",
      "          [5, 8],\n",
      "          [8, 8],\n",
      "          [6, 8]],\n",
      "\n",
      "         [[8, 5],\n",
      "          [9, 2],\n",
      "          [4, 3],\n",
      "          [7, 4],\n",
      "          [8, 7],\n",
      "          [7, 6],\n",
      "          [9, 2],\n",
      "          [2, 2]],\n",
      "\n",
      "         [[3, 8],\n",
      "          [9, 4],\n",
      "          [6, 2],\n",
      "          [9, 6],\n",
      "          [7, 7],\n",
      "          [8, 1],\n",
      "          [5, 9],\n",
      "          [7, 1]]]])\n"
     ]
    }
   ],
   "source": [
    "print(x2)"
   ],
   "metadata": {
    "collapsed": false,
    "ExecuteTime": {
     "end_time": "2024-01-05T07:24:40.214369200Z",
     "start_time": "2024-01-05T07:24:40.170089100Z"
    }
   },
   "id": "f241ece80f5024a9"
  },
  {
   "cell_type": "code",
   "execution_count": null,
   "outputs": [],
   "source": [],
   "metadata": {
    "collapsed": false
   },
   "id": "4d1e08e52ae0e7cb"
  }
 ],
 "metadata": {
  "kernelspec": {
   "display_name": "Python 3",
   "language": "python",
   "name": "python3"
  },
  "language_info": {
   "codemirror_mode": {
    "name": "ipython",
    "version": 2
   },
   "file_extension": ".py",
   "mimetype": "text/x-python",
   "name": "python",
   "nbconvert_exporter": "python",
   "pygments_lexer": "ipython2",
   "version": "2.7.6"
  }
 },
 "nbformat": 4,
 "nbformat_minor": 5
}
