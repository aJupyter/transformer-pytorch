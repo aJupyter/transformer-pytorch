{
 "cells": [
  {
   "cell_type": "code",
   "execution_count": 9,
   "id": "initial_id",
   "metadata": {
    "collapsed": true,
    "ExecuteTime": {
     "end_time": "2023-11-01T08:04:28.008275200Z",
     "start_time": "2023-11-01T08:04:27.988329700Z"
    }
   },
   "outputs": [
    {
     "name": "stdout",
     "output_type": "stream",
     "text": [
      "tensor([-1.1461, -1.0964,  0.9683])\n",
      "tensor([-1, -1,  0])\n"
     ]
    }
   ],
   "source": [
    "import torch\n",
    "a = torch.randn(3)\n",
    "print(a)\n",
    "print(a.long())"
   ]
  },
  {
   "cell_type": "code",
   "execution_count": 10,
   "outputs": [
    {
     "name": "stdout",
     "output_type": "stream",
     "text": [
      "tensor([[0., 0.],\n",
      "        [0., 0.],\n",
      "        [0., 0.]])\n"
     ]
    }
   ],
   "source": [
    "import torch\n",
    "a = torch.zeros(3,2)\n",
    "print(a)"
   ],
   "metadata": {
    "collapsed": false,
    "ExecuteTime": {
     "end_time": "2023-11-01T08:40:52.474304500Z",
     "start_time": "2023-11-01T08:40:52.455325600Z"
    }
   },
   "id": "5894008c6524f2d6"
  },
  {
   "cell_type": "code",
   "execution_count": 13,
   "outputs": [
    {
     "name": "stdout",
     "output_type": "stream",
     "text": [
      "torch.Size([5])\n",
      "torch.Size([5, 1])\n"
     ]
    }
   ],
   "source": [
    "a = torch.arange(0, 5)\n",
    "b = torch.arange(0,5).unsqueeze(1)\n",
    "print(a.size())\n",
    "print(b.size())"
   ],
   "metadata": {
    "collapsed": false,
    "ExecuteTime": {
     "end_time": "2023-11-01T09:00:24.469258Z",
     "start_time": "2023-11-01T09:00:24.447316700Z"
    }
   },
   "id": "defef9f1ceef6d20"
  },
  {
   "cell_type": "code",
   "execution_count": 27,
   "outputs": [
    {
     "name": "stdout",
     "output_type": "stream",
     "text": [
      "tensor([[0],\n",
      "        [1],\n",
      "        [2],\n",
      "        [3],\n",
      "        [4]])\n"
     ]
    }
   ],
   "source": [
    "a1 = a.reshape(5,1)\n",
    "print(a1)"
   ],
   "metadata": {
    "collapsed": false,
    "ExecuteTime": {
     "end_time": "2023-11-01T09:43:33.419099600Z",
     "start_time": "2023-11-01T09:43:33.411120700Z"
    }
   },
   "id": "d6d33430b5e38ce5"
  },
  {
   "cell_type": "code",
   "execution_count": null,
   "outputs": [],
   "source": [],
   "metadata": {
    "collapsed": false
   },
   "id": "d7d4df8b33fd5d72"
  }
 ],
 "metadata": {
  "kernelspec": {
   "display_name": "Python 3",
   "language": "python",
   "name": "python3"
  },
  "language_info": {
   "codemirror_mode": {
    "name": "ipython",
    "version": 2
   },
   "file_extension": ".py",
   "mimetype": "text/x-python",
   "name": "python",
   "nbconvert_exporter": "python",
   "pygments_lexer": "ipython2",
   "version": "2.7.6"
  }
 },
 "nbformat": 4,
 "nbformat_minor": 5
}
