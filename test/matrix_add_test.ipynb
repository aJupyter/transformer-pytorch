{
 "cells": [
  {
   "cell_type": "code",
   "execution_count": 1,
   "id": "initial_id",
   "metadata": {
    "collapsed": true,
    "ExecuteTime": {
     "end_time": "2024-01-04T15:48:46.796828600Z",
     "start_time": "2024-01-04T15:48:43.284499200Z"
    }
   },
   "outputs": [],
   "source": [
    "import torch"
   ]
  },
  {
   "cell_type": "code",
   "execution_count": 3,
   "outputs": [
    {
     "name": "stdout",
     "output_type": "stream",
     "text": [
      "tensor([[[1., 1., 1.],\n",
      "         [1., 1., 1.]],\n",
      "\n",
      "        [[1., 1., 1.],\n",
      "         [1., 1., 1.]],\n",
      "\n",
      "        [[1., 1., 1.],\n",
      "         [1., 1., 1.]],\n",
      "\n",
      "        [[1., 1., 1.],\n",
      "         [1., 1., 1.]]])\n"
     ]
    }
   ],
   "source": [
    "token_embed = torch.ones((4,2,3))   # [batch_size, max_length, dim_vector]\n",
    "print(token_embed)"
   ],
   "metadata": {
    "collapsed": false,
    "ExecuteTime": {
     "end_time": "2024-01-04T15:50:31.270017500Z",
     "start_time": "2024-01-04T15:50:31.258014900Z"
    }
   },
   "id": "67a1774b821480b6"
  },
  {
   "cell_type": "code",
   "execution_count": 22,
   "outputs": [
    {
     "name": "stdout",
     "output_type": "stream",
     "text": [
      "tensor([[[ 0.3238,  0.5934],\n",
      "         [ 0.9412, -0.1174],\n",
      "         [-0.3315, -1.1191]],\n",
      "\n",
      "        [[-0.4827, -0.0314],\n",
      "         [-0.0736, -0.8250],\n",
      "         [-1.0358,  0.5460]]])\n",
      "tensor([[[ 0.3238,  0.5934],\n",
      "         [ 0.9412, -0.1174]],\n",
      "\n",
      "        [[-0.4827, -0.0314],\n",
      "         [-0.0736, -0.8250]]])\n"
     ]
    }
   ],
   "source": [
    "positional_embed = torch.randn((2,3,2))\n",
    "print(positional_embed)\n",
    "print(positional_embed[:,:2,:])"
   ],
   "metadata": {
    "collapsed": false,
    "ExecuteTime": {
     "end_time": "2024-01-04T16:44:05.227438100Z",
     "start_time": "2024-01-04T16:44:05.213226400Z"
    }
   },
   "id": "3f7b7f31e65f282d"
  },
  {
   "cell_type": "code",
   "execution_count": 10,
   "outputs": [
    {
     "name": "stdout",
     "output_type": "stream",
     "text": [
      "tensor([[[2., 2., 2.],\n",
      "         [2., 2., 2.]],\n",
      "\n",
      "        [[2., 2., 2.],\n",
      "         [2., 2., 2.]],\n",
      "\n",
      "        [[2., 2., 2.],\n",
      "         [2., 2., 2.]],\n",
      "\n",
      "        [[2., 2., 2.],\n",
      "         [2., 2., 2.]]])\n"
     ]
    }
   ],
   "source": [
    "out = positional_embed + token_embed\n",
    "print(out)"
   ],
   "metadata": {
    "collapsed": false,
    "ExecuteTime": {
     "end_time": "2024-01-04T15:52:28.594246200Z",
     "start_time": "2024-01-04T15:52:28.586242300Z"
    }
   },
   "id": "cff708db70662495"
  },
  {
   "cell_type": "code",
   "execution_count": null,
   "outputs": [],
   "source": [],
   "metadata": {
    "collapsed": false
   },
   "id": "dd60961dc28141d8"
  }
 ],
 "metadata": {
  "kernelspec": {
   "display_name": "Python 3",
   "language": "python",
   "name": "python3"
  },
  "language_info": {
   "codemirror_mode": {
    "name": "ipython",
    "version": 2
   },
   "file_extension": ".py",
   "mimetype": "text/x-python",
   "name": "python",
   "nbconvert_exporter": "python",
   "pygments_lexer": "ipython2",
   "version": "2.7.6"
  }
 },
 "nbformat": 4,
 "nbformat_minor": 5
}
