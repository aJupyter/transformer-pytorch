{
 "cells": [
  {
   "cell_type": "code",
   "execution_count": 1,
   "id": "initial_id",
   "metadata": {
    "collapsed": true,
    "ExecuteTime": {
     "end_time": "2024-02-02T07:15:03.690418800Z",
     "start_time": "2024-02-02T07:15:00.398350600Z"
    }
   },
   "outputs": [
    {
     "data": {
      "text/plain": "tensor([[0.8085, 0.4366, 0.7137, 0.4233, 0.9087, 0.6120],\n        [0.3520, 0.1667, 0.4715, 0.2118, 0.3292, 0.3541],\n        [0.5295, 0.2298, 0.8521, 0.7512, 0.4375, 0.6594],\n        [0.9966, 0.7330, 0.2921, 0.5939, 0.4371, 0.4171]])"
     },
     "execution_count": 1,
     "metadata": {},
     "output_type": "execute_result"
    }
   ],
   "source": [
    "import torch\n",
    "a = torch.rand(4,6)\n",
    "a"
   ]
  },
  {
   "cell_type": "code",
   "execution_count": 4,
   "outputs": [
    {
     "data": {
      "text/plain": "torch.Size([4, 6])"
     },
     "execution_count": 4,
     "metadata": {},
     "output_type": "execute_result"
    }
   ],
   "source": [
    "a.size()"
   ],
   "metadata": {
    "collapsed": false,
    "ExecuteTime": {
     "end_time": "2024-02-02T07:17:41.142833600Z",
     "start_time": "2024-02-02T07:17:41.121889Z"
    }
   },
   "id": "98e1fbdb6d4386e2"
  },
  {
   "cell_type": "code",
   "execution_count": 26,
   "outputs": [],
   "source": [
    "mask = [True,False,False,True]"
   ],
   "metadata": {
    "collapsed": false,
    "ExecuteTime": {
     "end_time": "2024-02-02T07:32:52.784634600Z",
     "start_time": "2024-02-02T07:32:52.770671200Z"
    }
   },
   "id": "304d4c77dc13c357"
  },
  {
   "cell_type": "code",
   "execution_count": 27,
   "outputs": [
    {
     "data": {
      "text/plain": "tensor([0.4366, 0.7330])"
     },
     "execution_count": 27,
     "metadata": {},
     "output_type": "execute_result"
    }
   ],
   "source": [
    "a[mask,1]"
   ],
   "metadata": {
    "collapsed": false,
    "ExecuteTime": {
     "end_time": "2024-02-02T07:32:53.291508800Z",
     "start_time": "2024-02-02T07:32:53.249620700Z"
    }
   },
   "id": "b9a5c7790f084ea5"
  },
  {
   "cell_type": "code",
   "execution_count": null,
   "outputs": [],
   "source": [],
   "metadata": {
    "collapsed": false
   },
   "id": "70b81a83e4ccba0a"
  }
 ],
 "metadata": {
  "kernelspec": {
   "display_name": "Python 3",
   "language": "python",
   "name": "python3"
  },
  "language_info": {
   "codemirror_mode": {
    "name": "ipython",
    "version": 2
   },
   "file_extension": ".py",
   "mimetype": "text/x-python",
   "name": "python",
   "nbconvert_exporter": "python",
   "pygments_lexer": "ipython2",
   "version": "2.7.6"
  }
 },
 "nbformat": 4,
 "nbformat_minor": 5
}
